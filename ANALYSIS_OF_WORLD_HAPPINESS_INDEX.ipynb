{
  "nbformat": 4,
  "nbformat_minor": 0,
  "metadata": {
    "colab": {
      "name": "ANALYSIS-OF-WORLD-HAPPINESS-INDEX.ipynb",
      "provenance": []
    },
    "kernelspec": {
      "name": "python3",
      "display_name": "Python 3"
    }
  },
  "cells": [
    {
      "cell_type": "code",
      "metadata": {
        "id": "yd_23OdK0FH7",
        "colab_type": "code",
        "outputId": "5b9f9b5a-92ec-4a13-c9e4-5b589d912969",
        "colab": {
          "base_uri": "https://localhost:8080/",
          "height": 122
        }
      },
      "source": [
        "from google.colab import drive\n",
        "drive.mount('/content/gdrive')"
      ],
      "execution_count": 0,
      "outputs": [
        {
          "output_type": "stream",
          "text": [
            "Go to this URL in a browser: https://accounts.google.com/o/oauth2/auth?client_id=947318989803-6bn6qk8qdgf4n4g3pfee6491hc0brc4i.apps.googleusercontent.com&redirect_uri=urn%3aietf%3awg%3aoauth%3a2.0%3aoob&response_type=code&scope=email%20https%3a%2f%2fwww.googleapis.com%2fauth%2fdocs.test%20https%3a%2f%2fwww.googleapis.com%2fauth%2fdrive%20https%3a%2f%2fwww.googleapis.com%2fauth%2fdrive.photos.readonly%20https%3a%2f%2fwww.googleapis.com%2fauth%2fpeopleapi.readonly\n",
            "\n",
            "Enter your authorization code:\n",
            "··········\n",
            "Mounted at /content/gdrive\n"
          ],
          "name": "stdout"
        }
      ]
    },
    {
      "cell_type": "code",
      "metadata": {
        "id": "1Zert8-702bd",
        "colab_type": "code",
        "colab": {}
      },
      "source": [
        "\n",
        "root_path = 'gdrive/My Drive/hive_project/'\n"
      ],
      "execution_count": 0,
      "outputs": []
    },
    {
      "cell_type": "code",
      "metadata": {
        "id": "sqnkdyUW2IoI",
        "colab_type": "code",
        "colab": {}
      },
      "source": [
        "import numpy as np \n",
        "import pandas as pd \n",
        "import matplotlib.pyplot as plt\n",
        " "
      ],
      "execution_count": 0,
      "outputs": []
    },
    {
      "cell_type": "code",
      "metadata": {
        "id": "jMg0E0Bn2XtG",
        "colab_type": "code",
        "outputId": "004845d8-a591-4dbb-e07e-b84d1610132e",
        "colab": {
          "base_uri": "https://localhost:8080/",
          "height": 71
        }
      },
      "source": [
        "from google.colab import drive\n",
        "drive.mount('/gdrive')\n",
        "%cd /gdrive/My Drive/hive_project/"
      ],
      "execution_count": 15,
      "outputs": [
        {
          "output_type": "stream",
          "text": [
            "Drive already mounted at /gdrive; to attempt to forcibly remount, call drive.mount(\"/gdrive\", force_remount=True).\n",
            "/gdrive/My Drive/hive_project\n"
          ],
          "name": "stdout"
        }
      ]
    },
    {
      "cell_type": "code",
      "metadata": {
        "id": "YKlWDkqI3-ls",
        "colab_type": "code",
        "colab": {}
      },
      "source": [
        "#getting the data from the 2015,16,17 dataset into a df\n",
        "data_2015 = pd.read_csv(\"2015.csv\")\n",
        "data_2016 = pd.read_csv(\"2016.csv\")\n",
        "data_2017 = pd.read_csv(\"2017.csv\")\n"
      ],
      "execution_count": 0,
      "outputs": []
    },
    {
      "cell_type": "code",
      "metadata": {
        "id": "XxMwYuWk4-ne",
        "colab_type": "code",
        "colab": {
          "base_uri": "https://localhost:8080/",
          "height": 119
        },
        "outputId": "19093700-d9d7-4f53-b4e7-a2c820d8ee2d"
      },
      "source": [
        "data_2016.columns"
      ],
      "execution_count": 188,
      "outputs": [
        {
          "output_type": "execute_result",
          "data": {
            "text/plain": [
              "Index(['Country', 'Region', 'Happiness Rank', 'Happiness Score',\n",
              "       'Lower Confidence Interval', 'Upper Confidence Interval',\n",
              "       'Economy (GDP per Capita)', 'Family', 'Health (Life Expectancy)',\n",
              "       'Freedom', 'Trust (Government Corruption)', 'Generosity',\n",
              "       'Dystopia Residual'],\n",
              "      dtype='object')"
            ]
          },
          "metadata": {
            "tags": []
          },
          "execution_count": 188
        }
      ]
    },
    {
      "cell_type": "code",
      "metadata": {
        "id": "-wjLtf045aEC",
        "colab_type": "code",
        "colab": {
          "base_uri": "https://localhost:8080/",
          "height": 360
        },
        "outputId": "aab9e7a6-1a7b-45ab-d1a4-52107f259031"
      },
      "source": [
        "data2016.head()"
      ],
      "execution_count": 189,
      "outputs": [
        {
          "output_type": "execute_result",
          "data": {
            "text/html": [
              "<div>\n",
              "<style scoped>\n",
              "    .dataframe tbody tr th:only-of-type {\n",
              "        vertical-align: middle;\n",
              "    }\n",
              "\n",
              "    .dataframe tbody tr th {\n",
              "        vertical-align: top;\n",
              "    }\n",
              "\n",
              "    .dataframe thead th {\n",
              "        text-align: right;\n",
              "    }\n",
              "</style>\n",
              "<table border=\"1\" class=\"dataframe\">\n",
              "  <thead>\n",
              "    <tr style=\"text-align: right;\">\n",
              "      <th></th>\n",
              "      <th>Country</th>\n",
              "      <th>Region</th>\n",
              "      <th>Happiness Rank</th>\n",
              "      <th>Happiness Score</th>\n",
              "      <th>Lower Confidence Interval</th>\n",
              "      <th>Upper Confidence Interval</th>\n",
              "      <th>Economy (GDP per Capita)</th>\n",
              "      <th>Family</th>\n",
              "      <th>Health (Life Expectancy)</th>\n",
              "      <th>Freedom</th>\n",
              "      <th>Trust (Government Corruption)</th>\n",
              "      <th>Generosity</th>\n",
              "      <th>Dystopia Residual</th>\n",
              "    </tr>\n",
              "  </thead>\n",
              "  <tbody>\n",
              "    <tr>\n",
              "      <th>0</th>\n",
              "      <td>Denmark</td>\n",
              "      <td>Western Europe</td>\n",
              "      <td>1</td>\n",
              "      <td>7.526</td>\n",
              "      <td>7.460</td>\n",
              "      <td>7.592</td>\n",
              "      <td>1.44178</td>\n",
              "      <td>1.16374</td>\n",
              "      <td>0.79504</td>\n",
              "      <td>0.57941</td>\n",
              "      <td>0.44453</td>\n",
              "      <td>0.36171</td>\n",
              "      <td>2.73939</td>\n",
              "    </tr>\n",
              "    <tr>\n",
              "      <th>1</th>\n",
              "      <td>Switzerland</td>\n",
              "      <td>Western Europe</td>\n",
              "      <td>2</td>\n",
              "      <td>7.509</td>\n",
              "      <td>7.428</td>\n",
              "      <td>7.590</td>\n",
              "      <td>1.52733</td>\n",
              "      <td>1.14524</td>\n",
              "      <td>0.86303</td>\n",
              "      <td>0.58557</td>\n",
              "      <td>0.41203</td>\n",
              "      <td>0.28083</td>\n",
              "      <td>2.69463</td>\n",
              "    </tr>\n",
              "    <tr>\n",
              "      <th>2</th>\n",
              "      <td>Iceland</td>\n",
              "      <td>Western Europe</td>\n",
              "      <td>3</td>\n",
              "      <td>7.501</td>\n",
              "      <td>7.333</td>\n",
              "      <td>7.669</td>\n",
              "      <td>1.42666</td>\n",
              "      <td>1.18326</td>\n",
              "      <td>0.86733</td>\n",
              "      <td>0.56624</td>\n",
              "      <td>0.14975</td>\n",
              "      <td>0.47678</td>\n",
              "      <td>2.83137</td>\n",
              "    </tr>\n",
              "    <tr>\n",
              "      <th>3</th>\n",
              "      <td>Norway</td>\n",
              "      <td>Western Europe</td>\n",
              "      <td>4</td>\n",
              "      <td>7.498</td>\n",
              "      <td>7.421</td>\n",
              "      <td>7.575</td>\n",
              "      <td>1.57744</td>\n",
              "      <td>1.12690</td>\n",
              "      <td>0.79579</td>\n",
              "      <td>0.59609</td>\n",
              "      <td>0.35776</td>\n",
              "      <td>0.37895</td>\n",
              "      <td>2.66465</td>\n",
              "    </tr>\n",
              "    <tr>\n",
              "      <th>4</th>\n",
              "      <td>Finland</td>\n",
              "      <td>Western Europe</td>\n",
              "      <td>5</td>\n",
              "      <td>7.413</td>\n",
              "      <td>7.351</td>\n",
              "      <td>7.475</td>\n",
              "      <td>1.40598</td>\n",
              "      <td>1.13464</td>\n",
              "      <td>0.81091</td>\n",
              "      <td>0.57104</td>\n",
              "      <td>0.41004</td>\n",
              "      <td>0.25492</td>\n",
              "      <td>2.82596</td>\n",
              "    </tr>\n",
              "  </tbody>\n",
              "</table>\n",
              "</div>"
            ],
            "text/plain": [
              "       Country          Region  ...  Generosity  Dystopia Residual\n",
              "0      Denmark  Western Europe  ...     0.36171            2.73939\n",
              "1  Switzerland  Western Europe  ...     0.28083            2.69463\n",
              "2      Iceland  Western Europe  ...     0.47678            2.83137\n",
              "3       Norway  Western Europe  ...     0.37895            2.66465\n",
              "4      Finland  Western Europe  ...     0.25492            2.82596\n",
              "\n",
              "[5 rows x 13 columns]"
            ]
          },
          "metadata": {
            "tags": []
          },
          "execution_count": 189
        }
      ]
    },
    {
      "cell_type": "code",
      "metadata": {
        "id": "d0x94Aw85eGj",
        "colab_type": "code",
        "colab": {
          "base_uri": "https://localhost:8080/",
          "height": 360
        },
        "outputId": "81b190a6-b922-47c4-c5cb-dfde07b89c68"
      },
      "source": [
        "data_2015.head()"
      ],
      "execution_count": 190,
      "outputs": [
        {
          "output_type": "execute_result",
          "data": {
            "text/html": [
              "<div>\n",
              "<style scoped>\n",
              "    .dataframe tbody tr th:only-of-type {\n",
              "        vertical-align: middle;\n",
              "    }\n",
              "\n",
              "    .dataframe tbody tr th {\n",
              "        vertical-align: top;\n",
              "    }\n",
              "\n",
              "    .dataframe thead th {\n",
              "        text-align: right;\n",
              "    }\n",
              "</style>\n",
              "<table border=\"1\" class=\"dataframe\">\n",
              "  <thead>\n",
              "    <tr style=\"text-align: right;\">\n",
              "      <th></th>\n",
              "      <th>Country</th>\n",
              "      <th>Region</th>\n",
              "      <th>Happiness Rank</th>\n",
              "      <th>Happiness Score</th>\n",
              "      <th>Standard Error</th>\n",
              "      <th>Economy (GDP per Capita)</th>\n",
              "      <th>Family</th>\n",
              "      <th>Health (Life Expectancy)</th>\n",
              "      <th>Freedom</th>\n",
              "      <th>Trust (Government Corruption)</th>\n",
              "      <th>Generosity</th>\n",
              "      <th>Dystopia Residual</th>\n",
              "    </tr>\n",
              "  </thead>\n",
              "  <tbody>\n",
              "    <tr>\n",
              "      <th>0</th>\n",
              "      <td>Switzerland</td>\n",
              "      <td>Western Europe</td>\n",
              "      <td>1</td>\n",
              "      <td>7.587</td>\n",
              "      <td>0.03411</td>\n",
              "      <td>1.39651</td>\n",
              "      <td>1.34951</td>\n",
              "      <td>0.94143</td>\n",
              "      <td>0.66557</td>\n",
              "      <td>0.41978</td>\n",
              "      <td>0.29678</td>\n",
              "      <td>2.51738</td>\n",
              "    </tr>\n",
              "    <tr>\n",
              "      <th>1</th>\n",
              "      <td>Iceland</td>\n",
              "      <td>Western Europe</td>\n",
              "      <td>2</td>\n",
              "      <td>7.561</td>\n",
              "      <td>0.04884</td>\n",
              "      <td>1.30232</td>\n",
              "      <td>1.40223</td>\n",
              "      <td>0.94784</td>\n",
              "      <td>0.62877</td>\n",
              "      <td>0.14145</td>\n",
              "      <td>0.43630</td>\n",
              "      <td>2.70201</td>\n",
              "    </tr>\n",
              "    <tr>\n",
              "      <th>2</th>\n",
              "      <td>Denmark</td>\n",
              "      <td>Western Europe</td>\n",
              "      <td>3</td>\n",
              "      <td>7.527</td>\n",
              "      <td>0.03328</td>\n",
              "      <td>1.32548</td>\n",
              "      <td>1.36058</td>\n",
              "      <td>0.87464</td>\n",
              "      <td>0.64938</td>\n",
              "      <td>0.48357</td>\n",
              "      <td>0.34139</td>\n",
              "      <td>2.49204</td>\n",
              "    </tr>\n",
              "    <tr>\n",
              "      <th>3</th>\n",
              "      <td>Norway</td>\n",
              "      <td>Western Europe</td>\n",
              "      <td>4</td>\n",
              "      <td>7.522</td>\n",
              "      <td>0.03880</td>\n",
              "      <td>1.45900</td>\n",
              "      <td>1.33095</td>\n",
              "      <td>0.88521</td>\n",
              "      <td>0.66973</td>\n",
              "      <td>0.36503</td>\n",
              "      <td>0.34699</td>\n",
              "      <td>2.46531</td>\n",
              "    </tr>\n",
              "    <tr>\n",
              "      <th>4</th>\n",
              "      <td>Canada</td>\n",
              "      <td>North America</td>\n",
              "      <td>5</td>\n",
              "      <td>7.427</td>\n",
              "      <td>0.03553</td>\n",
              "      <td>1.32629</td>\n",
              "      <td>1.32261</td>\n",
              "      <td>0.90563</td>\n",
              "      <td>0.63297</td>\n",
              "      <td>0.32957</td>\n",
              "      <td>0.45811</td>\n",
              "      <td>2.45176</td>\n",
              "    </tr>\n",
              "  </tbody>\n",
              "</table>\n",
              "</div>"
            ],
            "text/plain": [
              "       Country          Region  ...  Generosity  Dystopia Residual\n",
              "0  Switzerland  Western Europe  ...     0.29678            2.51738\n",
              "1      Iceland  Western Europe  ...     0.43630            2.70201\n",
              "2      Denmark  Western Europe  ...     0.34139            2.49204\n",
              "3       Norway  Western Europe  ...     0.34699            2.46531\n",
              "4       Canada   North America  ...     0.45811            2.45176\n",
              "\n",
              "[5 rows x 12 columns]"
            ]
          },
          "metadata": {
            "tags": []
          },
          "execution_count": 190
        }
      ]
    },
    {
      "cell_type": "code",
      "metadata": {
        "id": "XmO7lm3t5g4L",
        "colab_type": "code",
        "colab": {}
      },
      "source": [
        "#as the questions only involves the country ,happiness rank ,happiness score and region we'll exclude the other attributes\n",
        "columns_unwanted_2015= ['Happiness Rank','Standard Error', 'Economy (GDP per Capita)', 'Family',\n",
        "       'Health (Life Expectancy)', 'Freedom', 'Trust (Government Corruption)',\n",
        "       'Generosity', 'Dystopia Residual']\n",
        "columns_unwanted_2016 = ['Happiness Rank','Lower Confidence Interval', 'Upper Confidence Interval',\n",
        "       'Economy (GDP per Capita)', 'Family', 'Health (Life Expectancy)',\n",
        "       'Freedom', 'Trust (Government Corruption)', 'Generosity',\n",
        "       'Dystopia Residual']\n",
        "columns_unwanted_2017 = ['Happiness.Rank','Whisker.high',\n",
        "       'Whisker.low', 'Economy..GDP.per.Capita.', 'Family',\n",
        "       'Health..Life.Expectancy.', 'Freedom', 'Generosity',\n",
        "       'Trust..Government.Corruption.', 'Dystopia.Residual']\n",
        "\n"
      ],
      "execution_count": 0,
      "outputs": []
    },
    {
      "cell_type": "code",
      "metadata": {
        "id": "t92RY4ry71D4",
        "colab_type": "code",
        "colab": {}
      },
      "source": [
        "dnew_2015 = data_2015.drop(columns_unwanted_2015, axis=1)\n",
        " "
      ],
      "execution_count": 0,
      "outputs": []
    },
    {
      "cell_type": "code",
      "metadata": {
        "id": "mmsi8ayU74CC",
        "colab_type": "code",
        "colab": {}
      },
      "source": [
        "dnew_2016 = data_2016.drop(columns_unwanted_2016, axis=1)      "
      ],
      "execution_count": 0,
      "outputs": []
    },
    {
      "cell_type": "code",
      "metadata": {
        "id": "mEu2sJIzEZZ5",
        "colab_type": "code",
        "colab": {}
      },
      "source": [
        " \n",
        "dnew_2017 = data_2017.drop(columns_unwanted_2017, axis=1) "
      ],
      "execution_count": 0,
      "outputs": []
    },
    {
      "cell_type": "code",
      "metadata": {
        "id": "K-K0fTu8EgyH",
        "colab_type": "code",
        "colab": {
          "base_uri": "https://localhost:8080/",
          "height": 204
        },
        "outputId": "ebfb7f95-9819-4a4a-b0c3-d188e34d068c"
      },
      "source": [
        "dnew_2015.head()# the new datafrrames with only the required feilds"
      ],
      "execution_count": 195,
      "outputs": [
        {
          "output_type": "execute_result",
          "data": {
            "text/html": [
              "<div>\n",
              "<style scoped>\n",
              "    .dataframe tbody tr th:only-of-type {\n",
              "        vertical-align: middle;\n",
              "    }\n",
              "\n",
              "    .dataframe tbody tr th {\n",
              "        vertical-align: top;\n",
              "    }\n",
              "\n",
              "    .dataframe thead th {\n",
              "        text-align: right;\n",
              "    }\n",
              "</style>\n",
              "<table border=\"1\" class=\"dataframe\">\n",
              "  <thead>\n",
              "    <tr style=\"text-align: right;\">\n",
              "      <th></th>\n",
              "      <th>Country</th>\n",
              "      <th>Region</th>\n",
              "      <th>Happiness Score</th>\n",
              "    </tr>\n",
              "  </thead>\n",
              "  <tbody>\n",
              "    <tr>\n",
              "      <th>0</th>\n",
              "      <td>Switzerland</td>\n",
              "      <td>Western Europe</td>\n",
              "      <td>7.587</td>\n",
              "    </tr>\n",
              "    <tr>\n",
              "      <th>1</th>\n",
              "      <td>Iceland</td>\n",
              "      <td>Western Europe</td>\n",
              "      <td>7.561</td>\n",
              "    </tr>\n",
              "    <tr>\n",
              "      <th>2</th>\n",
              "      <td>Denmark</td>\n",
              "      <td>Western Europe</td>\n",
              "      <td>7.527</td>\n",
              "    </tr>\n",
              "    <tr>\n",
              "      <th>3</th>\n",
              "      <td>Norway</td>\n",
              "      <td>Western Europe</td>\n",
              "      <td>7.522</td>\n",
              "    </tr>\n",
              "    <tr>\n",
              "      <th>4</th>\n",
              "      <td>Canada</td>\n",
              "      <td>North America</td>\n",
              "      <td>7.427</td>\n",
              "    </tr>\n",
              "  </tbody>\n",
              "</table>\n",
              "</div>"
            ],
            "text/plain": [
              "       Country          Region  Happiness Score\n",
              "0  Switzerland  Western Europe            7.587\n",
              "1      Iceland  Western Europe            7.561\n",
              "2      Denmark  Western Europe            7.527\n",
              "3       Norway  Western Europe            7.522\n",
              "4       Canada   North America            7.427"
            ]
          },
          "metadata": {
            "tags": []
          },
          "execution_count": 195
        }
      ]
    },
    {
      "cell_type": "code",
      "metadata": {
        "id": "hd0X2LUYEkPi",
        "colab_type": "code",
        "colab": {}
      },
      "source": [
        "#preparing the dataframes for merging into a single dataframe\n",
        "dnew_2015 = dnew_2015.rename(columns={'Happiness Score':'HappinessScore_2015'})\n",
        "dnew_2016 = dnew_2016.rename(columns={'Happiness Score':'HappinessScore_2016'})\n",
        "dnew_2017 = dnew_2017.rename(columns={'Happiness.Score':'HappinessScore_2017'})"
      ],
      "execution_count": 0,
      "outputs": []
    },
    {
      "cell_type": "code",
      "metadata": {
        "id": "fvjX3pSeHDbK",
        "colab_type": "code",
        "colab": {}
      },
      "source": [
        "#merging 2015 and 2016 data first \n",
        "res1 = pd.merge(dnew_2015, dnew_2016)"
      ],
      "execution_count": 0,
      "outputs": []
    },
    {
      "cell_type": "code",
      "metadata": {
        "id": "Dxl7kfM3J09S",
        "colab_type": "code",
        "colab": {
          "base_uri": "https://localhost:8080/",
          "height": 204
        },
        "outputId": "373f4cdf-d0cf-487a-f0aa-eb137073c1d5"
      },
      "source": [
        "res1.head()"
      ],
      "execution_count": 198,
      "outputs": [
        {
          "output_type": "execute_result",
          "data": {
            "text/html": [
              "<div>\n",
              "<style scoped>\n",
              "    .dataframe tbody tr th:only-of-type {\n",
              "        vertical-align: middle;\n",
              "    }\n",
              "\n",
              "    .dataframe tbody tr th {\n",
              "        vertical-align: top;\n",
              "    }\n",
              "\n",
              "    .dataframe thead th {\n",
              "        text-align: right;\n",
              "    }\n",
              "</style>\n",
              "<table border=\"1\" class=\"dataframe\">\n",
              "  <thead>\n",
              "    <tr style=\"text-align: right;\">\n",
              "      <th></th>\n",
              "      <th>Country</th>\n",
              "      <th>Region</th>\n",
              "      <th>HappinessScore_2015</th>\n",
              "      <th>HappinessScore_2016</th>\n",
              "    </tr>\n",
              "  </thead>\n",
              "  <tbody>\n",
              "    <tr>\n",
              "      <th>0</th>\n",
              "      <td>Switzerland</td>\n",
              "      <td>Western Europe</td>\n",
              "      <td>7.587</td>\n",
              "      <td>7.509</td>\n",
              "    </tr>\n",
              "    <tr>\n",
              "      <th>1</th>\n",
              "      <td>Iceland</td>\n",
              "      <td>Western Europe</td>\n",
              "      <td>7.561</td>\n",
              "      <td>7.501</td>\n",
              "    </tr>\n",
              "    <tr>\n",
              "      <th>2</th>\n",
              "      <td>Denmark</td>\n",
              "      <td>Western Europe</td>\n",
              "      <td>7.527</td>\n",
              "      <td>7.526</td>\n",
              "    </tr>\n",
              "    <tr>\n",
              "      <th>3</th>\n",
              "      <td>Norway</td>\n",
              "      <td>Western Europe</td>\n",
              "      <td>7.522</td>\n",
              "      <td>7.498</td>\n",
              "    </tr>\n",
              "    <tr>\n",
              "      <th>4</th>\n",
              "      <td>Canada</td>\n",
              "      <td>North America</td>\n",
              "      <td>7.427</td>\n",
              "      <td>7.404</td>\n",
              "    </tr>\n",
              "  </tbody>\n",
              "</table>\n",
              "</div>"
            ],
            "text/plain": [
              "       Country          Region  HappinessScore_2015  HappinessScore_2016\n",
              "0  Switzerland  Western Europe                7.587                7.509\n",
              "1      Iceland  Western Europe                7.561                7.501\n",
              "2      Denmark  Western Europe                7.527                7.526\n",
              "3       Norway  Western Europe                7.522                7.498\n",
              "4       Canada   North America                7.427                7.404"
            ]
          },
          "metadata": {
            "tags": []
          },
          "execution_count": 198
        }
      ]
    },
    {
      "cell_type": "code",
      "metadata": {
        "id": "9wQkCncLJ3ZB",
        "colab_type": "code",
        "colab": {}
      },
      "source": [
        "#merging the resultant data with 2017\n",
        "happy=pd.merge(res1,dnew_2017)"
      ],
      "execution_count": 0,
      "outputs": []
    },
    {
      "cell_type": "code",
      "metadata": {
        "id": "kuJA7QZSPiVU",
        "colab_type": "code",
        "colab": {
          "base_uri": "https://localhost:8080/",
          "height": 204
        },
        "outputId": "8459b6b6-f898-41de-c264-2ac2777ec7c6"
      },
      "source": [
        "#the dataset we require is created \n",
        "happy.head()\n"
      ],
      "execution_count": 200,
      "outputs": [
        {
          "output_type": "execute_result",
          "data": {
            "text/html": [
              "<div>\n",
              "<style scoped>\n",
              "    .dataframe tbody tr th:only-of-type {\n",
              "        vertical-align: middle;\n",
              "    }\n",
              "\n",
              "    .dataframe tbody tr th {\n",
              "        vertical-align: top;\n",
              "    }\n",
              "\n",
              "    .dataframe thead th {\n",
              "        text-align: right;\n",
              "    }\n",
              "</style>\n",
              "<table border=\"1\" class=\"dataframe\">\n",
              "  <thead>\n",
              "    <tr style=\"text-align: right;\">\n",
              "      <th></th>\n",
              "      <th>Country</th>\n",
              "      <th>Region</th>\n",
              "      <th>HappinessScore_2015</th>\n",
              "      <th>HappinessScore_2016</th>\n",
              "      <th>HappinessScore_2017</th>\n",
              "    </tr>\n",
              "  </thead>\n",
              "  <tbody>\n",
              "    <tr>\n",
              "      <th>0</th>\n",
              "      <td>Switzerland</td>\n",
              "      <td>Western Europe</td>\n",
              "      <td>7.587</td>\n",
              "      <td>7.509</td>\n",
              "      <td>7.494</td>\n",
              "    </tr>\n",
              "    <tr>\n",
              "      <th>1</th>\n",
              "      <td>Iceland</td>\n",
              "      <td>Western Europe</td>\n",
              "      <td>7.561</td>\n",
              "      <td>7.501</td>\n",
              "      <td>7.504</td>\n",
              "    </tr>\n",
              "    <tr>\n",
              "      <th>2</th>\n",
              "      <td>Denmark</td>\n",
              "      <td>Western Europe</td>\n",
              "      <td>7.527</td>\n",
              "      <td>7.526</td>\n",
              "      <td>7.522</td>\n",
              "    </tr>\n",
              "    <tr>\n",
              "      <th>3</th>\n",
              "      <td>Norway</td>\n",
              "      <td>Western Europe</td>\n",
              "      <td>7.522</td>\n",
              "      <td>7.498</td>\n",
              "      <td>7.537</td>\n",
              "    </tr>\n",
              "    <tr>\n",
              "      <th>4</th>\n",
              "      <td>Canada</td>\n",
              "      <td>North America</td>\n",
              "      <td>7.427</td>\n",
              "      <td>7.404</td>\n",
              "      <td>7.316</td>\n",
              "    </tr>\n",
              "  </tbody>\n",
              "</table>\n",
              "</div>"
            ],
            "text/plain": [
              "       Country          Region  ...  HappinessScore_2016  HappinessScore_2017\n",
              "0  Switzerland  Western Europe  ...                7.509                7.494\n",
              "1      Iceland  Western Europe  ...                7.501                7.504\n",
              "2      Denmark  Western Europe  ...                7.526                7.522\n",
              "3       Norway  Western Europe  ...                7.498                7.537\n",
              "4       Canada   North America  ...                7.404                7.316\n",
              "\n",
              "[5 rows x 5 columns]"
            ]
          },
          "metadata": {
            "tags": []
          },
          "execution_count": 200
        }
      ]
    },
    {
      "cell_type": "code",
      "metadata": {
        "id": "yzYmi3WjPkvL",
        "colab_type": "code",
        "colab": {}
      },
      "source": [
        "## 1. Countries with a happiness score of less than 5.0\n",
        "## as this is a data set which has varying values of happiness scores for the three different years, the \n",
        "## output with countries less than 5 for each coressponding year\n",
        "#2015\n",
        "unhap2015=happy[happy['HappinessScore_2015']<5]\n",
        "ans1_15=unhap2015['Country']\n",
        "unhap2016=happy[happy['HappinessScore_2016']<5]\n",
        "ans1_16=unhap2016['Country']\n",
        "unhap2017=happy[happy['HappinessScore_2017']<5]\n",
        "ans1_17=unhap2017['Country']"
      ],
      "execution_count": 0,
      "outputs": []
    },
    {
      "cell_type": "code",
      "metadata": {
        "id": "6VftJ_hnRo8A",
        "colab_type": "code",
        "colab": {
          "base_uri": "https://localhost:8080/",
          "height": 1000
        },
        "outputId": "d1b22b12-e6dd-47c1-c5c2-2fefc5bb9621"
      },
      "source": [
        "#countries with happiness index less than 5 in 2015\n",
        "ans1_15"
      ],
      "execution_count": 202,
      "outputs": [
        {
          "output_type": "execute_result",
          "data": {
            "text/plain": [
              "88                     Albania\n",
              "89      Bosnia and Herzegovina\n",
              "90          Dominican Republic\n",
              "91                    Mongolia\n",
              "92                      Greece\n",
              "93                     Lebanon\n",
              "94                     Hungary\n",
              "95                    Honduras\n",
              "96                  Tajikistan\n",
              "97                     Tunisia\n",
              "98     Palestinian Territories\n",
              "99                  Bangladesh\n",
              "100                       Iran\n",
              "101                    Ukraine\n",
              "102                       Iraq\n",
              "103               South Africa\n",
              "104                      Ghana\n",
              "105                   Zimbabwe\n",
              "106                    Liberia\n",
              "107                      India\n",
              "108                      Sudan\n",
              "109                      Haiti\n",
              "110           Congo (Kinshasa)\n",
              "111                      Nepal\n",
              "112                   Ethiopia\n",
              "113               Sierra Leone\n",
              "114                 Mauritania\n",
              "115                      Kenya\n",
              "116                    Armenia\n",
              "117                   Botswana\n",
              "118                    Myanmar\n",
              "119                    Georgia\n",
              "120                     Malawi\n",
              "121                  Sri Lanka\n",
              "122                   Cameroon\n",
              "123                   Bulgaria\n",
              "124                      Egypt\n",
              "125                      Yemen\n",
              "126                     Angola\n",
              "127                       Mali\n",
              "128        Congo (Brazzaville)\n",
              "129                     Uganda\n",
              "130                    Senegal\n",
              "131                      Gabon\n",
              "132                      Niger\n",
              "133                   Cambodia\n",
              "134                   Tanzania\n",
              "135                 Madagascar\n",
              "136                       Chad\n",
              "137                     Guinea\n",
              "138                Ivory Coast\n",
              "139               Burkina Faso\n",
              "140                Afghanistan\n",
              "141                     Rwanda\n",
              "142                      Benin\n",
              "143                      Syria\n",
              "144                    Burundi\n",
              "145                       Togo\n",
              "Name: Country, dtype: object"
            ]
          },
          "metadata": {
            "tags": []
          },
          "execution_count": 202
        }
      ]
    },
    {
      "cell_type": "code",
      "metadata": {
        "id": "6sqy3xiZVTJD",
        "colab_type": "code",
        "colab": {
          "base_uri": "https://localhost:8080/",
          "height": 952
        },
        "outputId": "ffe1e15e-47d7-4c5a-9002-239877b6d779"
      },
      "source": [
        "#countries with happiness index less than 5 in 2016\n",
        "ans1_16"
      ],
      "execution_count": 203,
      "outputs": [
        {
          "output_type": "execute_result",
          "data": {
            "text/plain": [
              "73                     Nigeria\n",
              "80                      Zambia\n",
              "88                     Albania\n",
              "91                    Mongolia\n",
              "95                    Honduras\n",
              "96                  Tajikistan\n",
              "98     Palestinian Territories\n",
              "99                  Bangladesh\n",
              "100                       Iran\n",
              "101                    Ukraine\n",
              "102                       Iraq\n",
              "103               South Africa\n",
              "104                      Ghana\n",
              "105                   Zimbabwe\n",
              "106                    Liberia\n",
              "107                      India\n",
              "108                      Sudan\n",
              "109                      Haiti\n",
              "110           Congo (Kinshasa)\n",
              "111                      Nepal\n",
              "112                   Ethiopia\n",
              "113               Sierra Leone\n",
              "114                 Mauritania\n",
              "115                      Kenya\n",
              "116                    Armenia\n",
              "117                   Botswana\n",
              "118                    Myanmar\n",
              "119                    Georgia\n",
              "120                     Malawi\n",
              "121                  Sri Lanka\n",
              "122                   Cameroon\n",
              "123                   Bulgaria\n",
              "124                      Egypt\n",
              "125                      Yemen\n",
              "126                     Angola\n",
              "127                       Mali\n",
              "128        Congo (Brazzaville)\n",
              "129                     Uganda\n",
              "130                    Senegal\n",
              "131                      Gabon\n",
              "132                      Niger\n",
              "133                   Cambodia\n",
              "134                   Tanzania\n",
              "135                 Madagascar\n",
              "136                       Chad\n",
              "137                     Guinea\n",
              "138                Ivory Coast\n",
              "139               Burkina Faso\n",
              "140                Afghanistan\n",
              "141                     Rwanda\n",
              "142                      Benin\n",
              "143                      Syria\n",
              "144                    Burundi\n",
              "145                       Togo\n",
              "Name: Country, dtype: object"
            ]
          },
          "metadata": {
            "tags": []
          },
          "execution_count": 203
        }
      ]
    },
    {
      "cell_type": "code",
      "metadata": {
        "id": "OB9dE0V7Wi4n",
        "colab_type": "code",
        "colab": {
          "base_uri": "https://localhost:8080/",
          "height": 918
        },
        "outputId": "3f6c819f-ddc9-4512-c32a-6113f13b58d9"
      },
      "source": [
        "#countries with happiness index less than 5 in 2017\n",
        "ans1_17"
      ],
      "execution_count": 204,
      "outputs": [
        {
          "output_type": "execute_result",
          "data": {
            "text/plain": [
              "80                      Zambia\n",
              "88                     Albania\n",
              "91                    Mongolia\n",
              "97                     Tunisia\n",
              "98     Palestinian Territories\n",
              "99                  Bangladesh\n",
              "100                       Iran\n",
              "101                    Ukraine\n",
              "102                       Iraq\n",
              "103               South Africa\n",
              "104                      Ghana\n",
              "105                   Zimbabwe\n",
              "106                    Liberia\n",
              "107                      India\n",
              "108                      Sudan\n",
              "109                      Haiti\n",
              "110           Congo (Kinshasa)\n",
              "111                      Nepal\n",
              "112                   Ethiopia\n",
              "113               Sierra Leone\n",
              "114                 Mauritania\n",
              "115                      Kenya\n",
              "116                    Armenia\n",
              "117                   Botswana\n",
              "118                    Myanmar\n",
              "119                    Georgia\n",
              "120                     Malawi\n",
              "121                  Sri Lanka\n",
              "122                   Cameroon\n",
              "123                   Bulgaria\n",
              "124                      Egypt\n",
              "125                      Yemen\n",
              "126                     Angola\n",
              "127                       Mali\n",
              "128        Congo (Brazzaville)\n",
              "129                     Uganda\n",
              "130                    Senegal\n",
              "131                      Gabon\n",
              "132                      Niger\n",
              "133                   Cambodia\n",
              "134                   Tanzania\n",
              "135                 Madagascar\n",
              "136                       Chad\n",
              "137                     Guinea\n",
              "138                Ivory Coast\n",
              "139               Burkina Faso\n",
              "140                Afghanistan\n",
              "141                     Rwanda\n",
              "142                      Benin\n",
              "143                      Syria\n",
              "144                    Burundi\n",
              "145                       Togo\n",
              "Name: Country, dtype: object"
            ]
          },
          "metadata": {
            "tags": []
          },
          "execution_count": 204
        }
      ]
    },
    {
      "cell_type": "code",
      "metadata": {
        "id": "ZqfczN_-Wofk",
        "colab_type": "code",
        "colab": {
          "base_uri": "https://localhost:8080/",
          "height": 85
        },
        "outputId": "a7807761-8241-4d0f-9a61-cd4de4936221"
      },
      "source": [
        "# 2. Which is the unhappiest country in Sub-Saharan Africa?\n",
        "# least happiness score in year 2015 = \"togo\"\n",
        "ans2_15 = happy.loc[[happy.query('Region==\"Sub-Saharan Africa\"')['HappinessScore_2015'].idxmin()]]\n",
        "print(ans2_15)"
      ],
      "execution_count": 205,
      "outputs": [
        {
          "output_type": "stream",
          "text": [
            "    Country              Region  ...  HappinessScore_2016  HappinessScore_2017\n",
            "145    Togo  Sub-Saharan Africa  ...                3.303                3.495\n",
            "\n",
            "[1 rows x 5 columns]\n"
          ],
          "name": "stdout"
        }
      ]
    },
    {
      "cell_type": "code",
      "metadata": {
        "id": "SNarb_BsW6Iy",
        "colab_type": "code",
        "colab": {
          "base_uri": "https://localhost:8080/",
          "height": 85
        },
        "outputId": "56458a10-8991-4449-c55f-99df598ef4a0"
      },
      "source": [
        "#least happiness score in year 2016 = \"Burundi\"\n",
        "ans2_16 = happy.loc[[happy.query('Region==\"Sub-Saharan Africa\"')['HappinessScore_2016'].idxmin()]]\n",
        "print(ans2_16)"
      ],
      "execution_count": 206,
      "outputs": [
        {
          "output_type": "stream",
          "text": [
            "     Country              Region  ...  HappinessScore_2016  HappinessScore_2017\n",
            "144  Burundi  Sub-Saharan Africa  ...                2.905                2.905\n",
            "\n",
            "[1 rows x 5 columns]\n"
          ],
          "name": "stdout"
        }
      ]
    },
    {
      "cell_type": "code",
      "metadata": {
        "id": "PX4wZqx0Z9y4",
        "colab_type": "code",
        "colab": {
          "base_uri": "https://localhost:8080/",
          "height": 85
        },
        "outputId": "9bf848ab-0355-4461-b726-cc9721b97b2e"
      },
      "source": [
        "#least happiness score in year 2017 = \"Burundi\"\n",
        "ans2_17 = happy.loc[[happy.query('Region==\"Sub-Saharan Africa\"')['HappinessScore_2017'].idxmin()]]\n",
        "print(ans2_17)"
      ],
      "execution_count": 218,
      "outputs": [
        {
          "output_type": "stream",
          "text": [
            "     Country              Region  ...  HappinessScore_2016  HappinessScore_2017\n",
            "144  Burundi  Sub-Saharan Africa  ...                2.905                2.905\n",
            "\n",
            "[1 rows x 5 columns]\n"
          ],
          "name": "stdout"
        }
      ]
    },
    {
      "cell_type": "code",
      "metadata": {
        "id": "HZ7dWLm4fZ8W",
        "colab_type": "code",
        "colab": {}
      },
      "source": [
        "#4.4. Countries that became unhappy between 2015 to 2017"
      ],
      "execution_count": 0,
      "outputs": []
    },
    {
      "cell_type": "code",
      "metadata": {
        "id": "QRZHFcFad26k",
        "colab_type": "code",
        "colab": {
          "base_uri": "https://localhost:8080/",
          "height": 221
        },
        "outputId": "88947f52-a78f-4794-9884-07da22d347f1"
      },
      "source": [
        "hapsad=happy[happy['HappinessScore_2017']<happy['HappinessScore_2015']]\n",
        "ans_4=hapsad['Country']\n",
        "ans_4"
      ],
      "execution_count": 209,
      "outputs": [
        {
          "output_type": "execute_result",
          "data": {
            "text/plain": [
              "0      Switzerland\n",
              "1          Iceland\n",
              "2          Denmark\n",
              "4           Canada\n",
              "6      Netherlands\n",
              "          ...     \n",
              "126         Angola\n",
              "134       Tanzania\n",
              "135     Madagascar\n",
              "137         Guinea\n",
              "144        Burundi\n",
              "Name: Country, Length: 72, dtype: object"
            ]
          },
          "metadata": {
            "tags": []
          },
          "execution_count": 209
        }
      ]
    },
    {
      "cell_type": "code",
      "metadata": {
        "id": "bCn1Qw32h8TF",
        "colab_type": "code",
        "colab": {
          "base_uri": "https://localhost:8080/",
          "height": 80
        },
        "outputId": "c0f6e612-ccfe-4742-e3f6-04f9c959ff0b"
      },
      "source": [
        "#5. Find the country whose happiness decreased by the most amount= \"Latin America and Caribbean\t\"\n",
        "data=min(happy['HappinessScore_2017']-happy['HappinessScore_2015'])\n",
        "happy[happy['HappinessScore_2017']-happy['HappinessScore_2015']==data]"
      ],
      "execution_count": 230,
      "outputs": [
        {
          "output_type": "execute_result",
          "data": {
            "text/html": [
              "<div>\n",
              "<style scoped>\n",
              "    .dataframe tbody tr th:only-of-type {\n",
              "        vertical-align: middle;\n",
              "    }\n",
              "\n",
              "    .dataframe tbody tr th {\n",
              "        vertical-align: top;\n",
              "    }\n",
              "\n",
              "    .dataframe thead th {\n",
              "        text-align: right;\n",
              "    }\n",
              "</style>\n",
              "<table border=\"1\" class=\"dataframe\">\n",
              "  <thead>\n",
              "    <tr style=\"text-align: right;\">\n",
              "      <th></th>\n",
              "      <th>Country</th>\n",
              "      <th>Region</th>\n",
              "      <th>HappinessScore_2015</th>\n",
              "      <th>HappinessScore_2016</th>\n",
              "      <th>HappinessScore_2017</th>\n",
              "    </tr>\n",
              "  </thead>\n",
              "  <tbody>\n",
              "    <tr>\n",
              "      <th>21</th>\n",
              "      <td>Venezuela</td>\n",
              "      <td>Latin America and Caribbean</td>\n",
              "      <td>6.81</td>\n",
              "      <td>6.084</td>\n",
              "      <td>5.25</td>\n",
              "    </tr>\n",
              "  </tbody>\n",
              "</table>\n",
              "</div>"
            ],
            "text/plain": [
              "      Country  ... HappinessScore_2017\n",
              "21  Venezuela  ...                5.25\n",
              "\n",
              "[1 rows x 5 columns]"
            ]
          },
          "metadata": {
            "tags": []
          },
          "execution_count": 230
        }
      ]
    },
    {
      "cell_type": "code",
      "metadata": {
        "id": "xUcbasvUkFOp",
        "colab_type": "code",
        "colab": {}
      },
      "source": [
        ""
      ],
      "execution_count": 0,
      "outputs": []
    },
    {
      "cell_type": "code",
      "metadata": {
        "id": "JlR3buzjkGTr",
        "colab_type": "code",
        "colab": {}
      },
      "source": [
        "#2\n",
        "#Task 2: In the same notebook write the script to download UDF101 and\n",
        "#bring the training dataset in this format: (Labels can be downloaded\n",
        "#from here)\n",
        "\n",
        "import urllib.request\n",
        "url='https://www.crcv.ucf.edu/data/UCF101/UCF101.rar'\n",
        "urllib.request.urlretrieve(url, 'UDF101.mp4')"
      ],
      "execution_count": 0,
      "outputs": []
    },
    {
      "cell_type": "code",
      "metadata": {
        "id": "JCR3zwUSk1wI",
        "colab_type": "code",
        "colab": {}
      },
      "source": [
        ""
      ],
      "execution_count": 0,
      "outputs": []
    },
    {
      "cell_type": "code",
      "metadata": {
        "id": "Pvt4DsJIqPS8",
        "colab_type": "code",
        "colab": {}
      },
      "source": [
        ""
      ],
      "execution_count": 0,
      "outputs": []
    }
  ]
}